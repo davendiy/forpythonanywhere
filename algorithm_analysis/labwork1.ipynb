{
 "cells": [
  {
   "cell_type": "code",
   "execution_count": 20,
   "metadata": {},
   "outputs": [],
   "source": [
    "import numpy as np\n",
    "import time\n",
    "import matplotlib.pyplot as plt\n",
    "from itertools import permutations\n",
    "import sys\n",
    "\n",
    "sys.setrecursionlimit(10000)"
   ]
  },
  {
   "cell_type": "code",
   "execution_count": 32,
   "metadata": {},
   "outputs": [],
   "source": [
    "gamma = 0.5772156649   # Euler's constant\n",
    "last_time = 0\n",
    "bench = True\n",
    "\n",
    "\n",
    "def benchmark(func):\n",
    "    \"\"\"Decorator for time-testing.\n",
    "    \n",
    "    Prints information about calculation time of function func.\n",
    "    \"\"\"\n",
    "\n",
    "    def _benchmark(*args, **kwargs):\n",
    "        global last_time\n",
    "        t = time.time()\n",
    "        res = func(*args, **kwargs)\n",
    "        res_time = time.time() - t\n",
    "        if bench:\n",
    "            print(\"[*] function {} ended, time elapsed: {}\".format(func.__name__,\n",
    "                                                                   res_time))\n",
    "        last_time = res_time\n",
    "        return res\n",
    "\n",
    "    return _benchmark\n",
    "\n",
    "\n",
    "def generate_random_array(n):\n",
    "    return [np.random.randint(n) for _ in range(n)]\n",
    "\n",
    "\n",
    "def cache(func):\n",
    "    \n",
    "    _cache_dict = {}\n",
    "    \n",
    "    def _cache(*args, **kwargs):\n",
    "        nonlocal _cache_dict\n",
    "        if (str(args) + str(kwargs)) not in _cache_dict:\n",
    "            _cache_dict[str(args) + str(kwargs)] = func(*args, **kwargs)\n",
    "        return _cache_dict[str(args) + str(kwargs)]\n",
    "    \n",
    "    return _cache\n"
   ]
  },
  {
   "cell_type": "markdown",
   "metadata": {},
   "source": [
    "# Task 1, 2"
   ]
  },
  {
   "cell_type": "code",
   "execution_count": 105,
   "metadata": {},
   "outputs": [],
   "source": [
    "@benchmark\n",
    "def calc_Cn1(n):\n",
    "    if n < 1:\n",
    "        return 0\n",
    "    \n",
    "    res_array = [0] * (n+1)\n",
    "    for i in range(1, n + 1):\n",
    "        res_array[i] = i + 2 + sum(res_array[k] + res_array[i-k] for k in range(1, i+1)) / i\n",
    "    return res_array[n]\n",
    "\n",
    "\n",
    "@benchmark\n",
    "def calc_Cn2(n):\n",
    "    if n == 0:\n",
    "        return 0\n",
    "    \n",
    "    res = 0\n",
    "    for i in range(1, n+1):\n",
    "        res = (i + 1) / i * res + 2\n",
    "    return res\n",
    "\n",
    "\n",
    "@benchmark\n",
    "def Cn_formula(n):\n",
    "    return 2 * n * np.log(n)\n",
    "\n",
    "\n",
    "@benchmark\n",
    "def Cn_better_formula(n):\n",
    "    return (2 * (np.log(n+1) + 1 / (2 * n + 2) + gamma) - 2) * (n + 1)"
   ]
  },
  {
   "cell_type": "code",
   "execution_count": 52,
   "metadata": {},
   "outputs": [
    {
     "name": "stdout",
     "output_type": "stream",
     "text": [
      "\n",
      "n = 100\n",
      "[*] function calc_Cn1 ended, time elapsed: 0.001984119415283203\n",
      "[*] function calc_Cn2 ended, time elapsed: 2.7894973754882812e-05\n",
      "[*] function Cn_formula ended, time elapsed: 3.9577484130859375e-05\n",
      "[*] function Cn_better_formula ended, time elapsed: 3.886222839355469e-05\n",
      "\n",
      "by recursion: 847.8502585632029, 847.8502585632028;\n",
      "approximation: 921.0340371976183, 847.8519087117343;\n",
      "approximation error: 73.18377863441538, 0.0016501485313256126\n",
      "\n",
      "\n",
      "n = 1000\n",
      "[*] function calc_Cn1 ended, time elapsed: 0.09027767181396484\n",
      "[*] function calc_Cn2 ended, time elapsed: 0.00012230873107910156\n",
      "[*] function Cn_formula ended, time elapsed: 3.218650817871094e-05\n",
      "[*] function Cn_better_formula ended, time elapsed: 1.1920928955078125e-05\n",
      "\n",
      "by recursion: 12985.912662821765, 12985.91266282178;\n",
      "approximation: 13815.510557964273, 12985.91282931887;\n",
      "approximation error: 829.5978951425077, 0.0001664971041464014\n",
      "\n",
      "\n",
      "n = 10000\n",
      "[*] function calc_Cn1 ended, time elapsed: 7.592236518859863\n",
      "[*] function calc_Cn2 ended, time elapsed: 0.0010509490966796875\n",
      "[*] function Cn_formula ended, time elapsed: 3.218650817871094e-05\n",
      "[*] function Cn_better_formula ended, time elapsed: 1.2636184692382812e-05\n",
      "\n",
      "by recursion: 175771.69593295894, 175771.69593295958;\n",
      "approximation: 184206.80743952366, 175771.6959495941;\n",
      "approximation error: 8435.111506564717, 1.663516741245985e-05\n",
      "\n"
     ]
    }
   ],
   "source": [
    "for n in [100, 1000, 10_000]:\n",
    "    print(f'\\nn = {n}')\n",
    "    res1 = calc_Cn1(n)\n",
    "    res2 = calc_Cn2(n)\n",
    "    res3 = Cn_formula(n)\n",
    "    res4 = Cn_better_formula(n)\n",
    "    print(f\"\\nby recursion: {res1}, {res2};\\n\",\n",
    "          f\"approximation: {res3}, {res4};\\n\", \n",
    "          f\"approximation error: {abs(res1 - res3)}, {abs(res1 - res4)}\\n\", sep='')"
   ]
  },
  {
   "cell_type": "markdown",
   "metadata": {},
   "source": [
    "# Task 3"
   ]
  },
  {
   "cell_type": "code",
   "execution_count": 109,
   "metadata": {},
   "outputs": [],
   "source": [
    "_count = 0   # amount of comparisons\n",
    "_count2 = 0\n",
    "\n",
    "\n",
    "@benchmark\n",
    "def quick_sort(array, key=lambda a: a):\n",
    "    \"\"\"Realisation of QuickSort algorithm.\n",
    "    \n",
    "    It's non-recursive wrapper for recursive function below.\n",
    "    :param array: array-like collection\n",
    "    :param key: function for comparison\n",
    "    \"\"\"\n",
    "    global _count, _count2\n",
    "    _count = 0\n",
    "    quick_sort_helper(array, 0, len(array) - 1, key)\n",
    "    return _count, _count2\n",
    "\n",
    "\n",
    "def quick_sort_helper(array, first, last, key=lambda a: a):\n",
    "    \"\"\" Additional recursive function for sorting\n",
    "\n",
    "    :param array: array-like collection\n",
    "    :param first: left bound of sorting\n",
    "    :param last: right bound of sorting\n",
    "    :param key: function for comparison\n",
    "    \"\"\"\n",
    "    if first < last:\n",
    "        splitpoint = partition(array, first, last, key)\n",
    "        \n",
    "        quick_sort_helper(array, first, splitpoint - 1, key)\n",
    "        quick_sort_helper(array, splitpoint + 1, last, key)\n",
    "\n",
    "\n",
    "def partition(array, first, last, key=lambda a: a):\n",
    "    \"\"\" Finds the point of splitting the array into 2.\n",
    "\n",
    "    :param array: array-like collection\n",
    "    :param first: left bound of sorting\n",
    "    :param last: right bound of sorting\n",
    "    :param key: function for comparison\n",
    "    :return: Position (index) of splitting.\n",
    "    \"\"\"\n",
    "    global _count, _count2\n",
    "    pivot = array[first]      # fundamental element\n",
    "    left = first + 1\n",
    "    right = last\n",
    "    done = False\n",
    "    while not done:\n",
    "        \n",
    "        while left <= right and key(array[left]) <= key(pivot):\n",
    "            left += 1\n",
    "            _count += 2          # there were 1 comparisons above\n",
    "        while key(array[right]) >= key(pivot) and right >= left:\n",
    "            right -= 1\n",
    "            _count += 2          # there were 1 comparisons above\n",
    "        \n",
    "        _count += 1\n",
    "        if right < left:\n",
    "            done = True\n",
    "        else:\n",
    "            _count2 += 1    # changing of elements (at least 3 operations)\n",
    "            array[left], array[right] = array[right], array[left]\n",
    "\n",
    "    _count2 += 1    # changing of elements (at least 3 operations)\n",
    "    array[first], array[right] = array[right], array[first]\n",
    "    return right"
   ]
  },
  {
   "cell_type": "code",
   "execution_count": 28,
   "metadata": {},
   "outputs": [
    {
     "name": "stdout",
     "output_type": "stream",
     "text": [
      "\n",
      "n = 10_000\n",
      "[*] function quick_sort ended, time elapsed: 0.09262681007385254\n",
      "\n",
      "expected time for n=100000: 1.1115217208862305\n",
      "real time:\n",
      "[*] function quick_sort ended, time elapsed: 1.020198106765747\n",
      "\n",
      "expected time for n=500000: 6.0120301001729635\n",
      "real time:\n",
      "[*] function quick_sort ended, time elapsed: 5.799322128295898\n",
      "\n",
      "expected time for n=1000000: 12.35024134318034\n",
      "real time:\n",
      "[*] function quick_sort ended, time elapsed: 11.761738538742065\n",
      "\n",
      "expected time for n=10000000: 132.3240143912179\n",
      "real time:\n",
      "[*] function quick_sort ended, time elapsed: 150.881019115448\n"
     ]
    }
   ],
   "source": [
    "print(\"\\nn = 10_000\")\n",
    "compar = quick_sort(generate_random_array(10_000))\n",
    "res_time = last_time\n",
    "bench = True\n",
    "\n",
    "\n",
    "for n in [1e+5, 5*1e+5, 1e+6, 1e+7]:\n",
    "    n = int(n)\n",
    "    diff = n // 10_000\n",
    "    print(f\"\\nexpected time for n={n}:\", res_time*(diff + diff*np.log(diff) / np.log(n)))\n",
    "    print(\"real time:\")\n",
    "    quick_sort(generate_random_array(n))\n"
   ]
  },
  {
   "cell_type": "code",
   "execution_count": 106,
   "metadata": {
    "scrolled": false
   },
   "outputs": [
    {
     "name": "stdout",
     "output_type": "stream",
     "text": [
      "700\n",
      "800\n",
      "900\n",
      "1000\n",
      "1100\n",
      "1200\n",
      "1300\n"
     ]
    },
    {
     "data": {
      "image/png": "[encoded data removed]",
      "text/plain": [
       "<Figure size 1440x1080 with 1 Axes>"
      ]
     },
     "metadata": {
      "needs_background": "light"
     },
     "output_type": "display_data"
    }
   ],
   "source": [
    "\n",
    "bench = False\n",
    "m = 100\n",
    "\n",
    "fig = plt.figure(figsize=(20, 15))\n",
    "for n in [700, 800, 900, 1000, 1100, 1200, 1300]:\n",
    "    print(n)\n",
    "    comp_list = []\n",
    "\n",
    "    for i in range(m):\n",
    "        comp_list.append(quick_sort(generate_random_array(n))[0])\n",
    "\n",
    "    comp_list = np.array(comp_list)\n",
    "    mean = comp_list.mean()\n",
    "    expected_value = calc_Cn1(n)\n",
    "    x = [n for i in range(m)]\n",
    "\n",
    "    plt.scatter(x, comp_list, color='r')\n",
    "    plt.plot([n-10, n+10], [mean, mean], color='b')\n",
    "    plt.plot([n-10, n+10], [expected_value, expected_value], color='g')\n",
    "\n",
    "plt.plot([700], [10000], color='r', label='comparisons')\n",
    "plt.plot([700], [10000], color='b', label='empirical mean')\n",
    "plt.plot([700], [10000], color='g', label='expected_value')\n",
    "plt.legend()\n",
    "plt.show()\n",
    "    "
   ]
  },
  {
   "cell_type": "markdown",
   "metadata": {},
   "source": [
    "# Task 4"
   ]
  },
  {
   "cell_type": "code",
   "execution_count": 114,
   "metadata": {},
   "outputs": [
    {
     "data": {
      "image/png": "[encoded data removed]",
      "text/plain": [
       "<Figure size 432x288 with 2 Axes>"
      ]
     },
     "metadata": {
      "needs_background": "light"
     },
     "output_type": "display_data"
    },
    {
     "data": {
      "image/png": "[encoded data removed]",
      "text/plain": [
       "<Figure size 432x288 with 2 Axes>"
      ]
     },
     "metadata": {
      "needs_background": "light"
     },
     "output_type": "display_data"
    }
   ],
   "source": [
    "def create_dict_of_K(n):\n",
    "    res = [quick_sort(list(el)) for el in permutations(range(n))]\n",
    "    return res\n",
    "\n",
    "for n in [9, 10]:\n",
    "    tmp = create_dict_of_K(n)\n",
    "    tmp1 = list(map(lambda a: a[0], tmp))\n",
    "    tmp2 = list(map(lambda a: a[1], tmp))\n",
    "    fig, ax = plt.subplots(221)\n",
    "    plt.subplot(1, 2, 1, title='comparisons, n = {}'.format(n))\n",
    "    plt.hist(tmp1, bins=20, rwidth=0.8, density=True)\n",
    "    \n",
    "    plt.subplot(1, 2, 2, title='transpositions, n = {}'.format(n))\n",
    "    plt.hist(tmp1, bins=30, rwidth=0.8, density=True, label='transpositions, n={}'.format(n))\n",
    "    plt.show()"
   ]
  },
  {
   "cell_type": "markdown",
   "metadata": {},
   "source": [
    "# Task 5 - merge sort"
   ]
  },
  {
   "cell_type": "code",
   "execution_count": 54,
   "metadata": {},
   "outputs": [],
   "source": [
    "_count2 = 0\n",
    "\n",
    "@benchmark\n",
    "def merge_sort_test(array):\n",
    "    global _count2\n",
    "    _count2 = 0\n",
    "    merge_sort(array)\n",
    "    return _count2\n",
    "\n",
    "\n",
    "def merge_sort(array):\n",
    "    \"\"\" Реалізує алгоритм сортування злиттям\n",
    "\n",
    "    :param array: Масив (список однотипових елементів)\n",
    "    :return: None\n",
    "    \"\"\"\n",
    "    global _count2\n",
    "    # print(\"Splitting \", array)\n",
    "    if len(array) > 1:\n",
    "        # Розбиття списку навпіл\n",
    "        mid = len(array) // 2\n",
    "        lefthalf = array[:mid]\n",
    "        righthalf = array[mid:]\n",
    "\n",
    "        # Рекурсивний виклик сортування\n",
    "        # для кожної з половин\n",
    "        merge_sort(lefthalf)\n",
    "        merge_sort(righthalf)\n",
    "\n",
    "        # Злиття двох відсортованих списків\n",
    "        i = 0\n",
    "        j = 0\n",
    "        k = 0\n",
    "        while i < len(lefthalf) and j < len(righthalf):\n",
    "            _count2 += 2\n",
    "            if lefthalf[i] < righthalf[j]:\n",
    "                array[k] = lefthalf[i]\n",
    "                i += 1\n",
    "            else:\n",
    "                array[k] = righthalf[j]\n",
    "                j += 1\n",
    "            k += 1\n",
    "\n",
    "        while i < len(lefthalf):\n",
    "            array[k] = lefthalf[i]\n",
    "            i += 1\n",
    "            k += 1\n",
    "\n",
    "        while j < len(righthalf):\n",
    "            array[k] = righthalf[j]\n",
    "            j += 1\n",
    "            k += 1\n"
   ]
  },
  {
   "cell_type": "markdown",
   "metadata": {},
   "source": [
    "## Task 3 for merge sort"
   ]
  },
  {
   "cell_type": "code",
   "execution_count": 57,
   "metadata": {},
   "outputs": [
    {
     "name": "stdout",
     "output_type": "stream",
     "text": [
      "\n",
      "n = 10_000\n",
      "[*] function merge_sort_test ended, time elapsed: 0.05793261528015137\n",
      "\n",
      "expected time for n=100000: 0.6951913833618164\n",
      "real time:\n",
      "[*] function merge_sort_test ended, time elapsed: 0.7450039386749268\n",
      "\n",
      "expected time for n=500000: 3.760170803337738\n",
      "real time:\n",
      "[*] function merge_sort_test ended, time elapsed: 4.417741298675537\n",
      "\n",
      "expected time for n=1000000: 7.724348704020183\n",
      "real time:\n",
      "[*] function merge_sort_test ended, time elapsed: 10.42922067642212\n",
      "\n",
      "expected time for n=10000000: 82.7608789716448\n",
      "real time:\n",
      "[*] function merge_sort_test ended, time elapsed: 116.44699358940125\n"
     ]
    }
   ],
   "source": [
    "print(\"\\nn = 10_000\")\n",
    "compar = merge_sort_test(generate_random_array(10_000))\n",
    "res_time = last_time\n",
    "bench = True\n",
    "\n",
    "\n",
    "for n in [1e+5, 5*1e+5, 1e+6, 1e+7]:\n",
    "    n = int(n)\n",
    "    diff = n // 10_000\n",
    "    print(f\"\\nexpected time for n={n}:\", res_time*(diff + diff*np.log(diff) / np.log(n)))\n",
    "    print(\"real time:\")\n",
    "    merge_sort_test(generate_random_array(n))\n"
   ]
  },
  {
   "cell_type": "code",
   "execution_count": 102,
   "metadata": {},
   "outputs": [
    {
     "name": "stdout",
     "output_type": "stream",
     "text": [
      "700\n",
      "800\n",
      "900\n",
      "1000\n",
      "1100\n",
      "1200\n",
      "1300\n"
     ]
    },
    {
     "data": {
      "image/png": "[encoded data removed]",
      "text/plain": [
       "<Figure size 1440x1080 with 1 Axes>"
      ]
     },
     "metadata": {
      "needs_background": "light"
     },
     "output_type": "display_data"
    }
   ],
   "source": [
    "\n",
    "bench = False\n",
    "m = 100\n",
    "\n",
    "fig = plt.figure(figsize=(20, 15))\n",
    "for n in [700, 800, 900, 1000, 1100, 1200, 1300]:\n",
    "    print(n)\n",
    "    comp_list = []\n",
    "\n",
    "    for i in range(m):\n",
    "        comp_list.append(merge_sort_test(generate_random_array(n)))\n",
    "\n",
    "    comp_list = np.array(comp_list)\n",
    "    mean = comp_list.mean()\n",
    "    expected_value = n * np.floor(np.log(n)) + 2 * n - 2 ** (np.floor)\n",
    "    x = [n for i in range(m)]\n",
    "\n",
    "    plt.scatter(x, comp_list, color='r')\n",
    "    plt.plot([n-10, n+10], [mean, mean], color='b')\n",
    "    plt.plot([n-10, n+10], [expected_value, expected_value], color='g')\n",
    "\n",
    "plt.plot([700], [10000], color='r', label='comparisons')\n",
    "plt.plot([700], [10000], color='b', label='empirical mean')\n",
    "plt.plot([700], [10000], color='g', label='expected_value')\n",
    "plt.legend()\n",
    "plt.show()"
   ]
  },
  {
   "cell_type": "markdown",
   "metadata": {},
   "source": [
    "## Task 4 for merge_sort"
   ]
  },
  {
   "cell_type": "code",
   "execution_count": 60,
   "metadata": {},
   "outputs": [
    {
     "data": {
      "image/png": "[encoded data removed]",
      "text/plain": [
       "<Figure size 432x288 with 1 Axes>"
      ]
     },
     "metadata": {
      "needs_background": "light"
     },
     "output_type": "display_data"
    },
    {
     "data": {
      "image/png": "[encoded data removed]",
      "text/plain": [
       "<Figure size 432x288 with 1 Axes>"
      ]
     },
     "metadata": {
      "needs_background": "light"
     },
     "output_type": "display_data"
    }
   ],
   "source": [
    "def create_dict_of_K2(n):\n",
    "    res = [merge_sort_test(list(el)) for el in permutations(range(n))]\n",
    "    return res\n",
    "\n",
    "\n",
    "for n in [9, 10]:\n",
    "    plt.hist(create_dict_of_K2(n), bins=20, rwidth=0.8, density=True, label='n={}'.format(n))\n",
    "    plt.legend()\n",
    "    plt.show()"
   ]
  }
 ],
 "metadata": {
  "kernelspec": {
   "display_name": "Python 3",
   "language": "python",
   "name": "python3"
  },
  "language_info": {
   "codemirror_mode": {
    "name": "ipython",
    "version": 3
   },
   "file_extension": ".py",
   "mimetype": "text/x-python",
   "name": "python",
   "nbconvert_exporter": "python",
   "pygments_lexer": "ipython3",
   "version": "3.7.3"
  },
  "widgets": {
   "application/vnd.jupyter.widget-state+json": {
    "state": {},
    "version_major": 1,
    "version_minor": 0
   }
  }
 },
 "nbformat": 4,
 "nbformat_minor": 2
}
